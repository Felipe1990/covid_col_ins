{
 "cells": [
  {
   "cell_type": "code",
   "execution_count": 43,
   "metadata": {},
   "outputs": [],
   "source": [
    "import bs4 as bs\n",
    "import pandas as pd\n",
    "import urllib.request as urllib\n",
    "import requests\n",
    "import json"
   ]
  },
  {
   "cell_type": "code",
   "execution_count": 131,
   "metadata": {},
   "outputs": [],
   "source": [
    "def extract_data(url='https://infogram.com/covid-2019-ins-colombia-1hnq41zg9ord63z'):\n",
    "    \n",
    "    response = requests.get(url, headers={'User-Agent': 'Mozilla/5.0'})\n",
    "    \n",
    "    assert response.status_code == 200\n",
    "    \n",
    "    soup = bs.BeautifulSoup(response.content, 'html.parser')\n",
    "    \n",
    "    json_tree = soup.find_all('script')[7].text[23:]\n",
    "    json_tree = json_tree[:-1]\n",
    "    \n",
    "    dict_tree = json.loads(json_tree)\n",
    "\n",
    "    relevant_key = list(dict_tree['elements']['content']['content']['entities'].keys())[6]\n",
    "    data = dict_tree['elements']['content']['content']['entities'][relevant_key]['props']['chartData']['data']\n",
    "    \n",
    "    a = []\n",
    "    for idx, row_i in enumerate(data[0]):\n",
    "        a.append(pd.DataFrame([idx] + row_i))\n",
    "        \n",
    "    data_df = (pd.concat(a, axis=1, ignore_index=True)\n",
    "             .melt(id_vars=0)\n",
    "             .rename(columns={0:'index_col'})\n",
    "             .pivot_table(values='value',index='variable',columns='index_col', aggfunc=lambda x: x[0])\n",
    "             .reset_index()\n",
    "             .loc[:, ['ID de caso', 'Ciudad de ubicación', 'Fecha de diagnóstico ','Femenino',\n",
    "                      'Asociado', 'Atención', 'Importado', 'Masculino', \n",
    "                      '0 a 9', '10 a 19', '20 a 29', '30 a 39', \n",
    "                      '40 a 49', '50 a 59', '60 a 69', '70 a 79',\n",
    "                      '80 a 89','90 o más'\n",
    "             ]]\n",
    "            )\n",
    "    \n",
    "    return data_df"
   ]
  },
  {
   "cell_type": "code",
   "execution_count": 133,
   "metadata": {},
   "outputs": [],
   "source": [
    "casos_df = extract_data()\n",
    "casos_df.to_csv('casos_col.csv', index=False)"
   ]
  }
 ],
 "metadata": {
  "kernelspec": {
   "display_name": "Python 3",
   "language": "python",
   "name": "python3"
  },
  "language_info": {
   "codemirror_mode": {
    "name": "ipython",
    "version": 3
   },
   "file_extension": ".py",
   "mimetype": "text/x-python",
   "name": "python",
   "nbconvert_exporter": "python",
   "pygments_lexer": "ipython3",
   "version": "3.8.2"
  }
 },
 "nbformat": 4,
 "nbformat_minor": 4
}
